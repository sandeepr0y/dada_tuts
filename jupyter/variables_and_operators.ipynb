{
 "cells": [
  {
   "cell_type": "code",
   "execution_count": 2,
   "id": "95fea516",
   "metadata": {},
   "outputs": [
    {
     "name": "stdout",
     "output_type": "stream",
     "text": [
      "<class 'int'> \t\t 100\n",
      "<class 'float'> \t 32.56\n",
      "<class 'complex'> \t 3.14j\n",
      "<class 'str'> \t\t Some text\n",
      "<class 'bool'> \t\t True\n",
      "<class 'list'> \t\t []\n",
      "<class 'dict'> \t\t {}\n",
      "<class 'tuple'> \t ()\n",
      "<class 'set'> \t\t set()\n"
     ]
    }
   ],
   "source": [
    "# variable assignment & primary\n",
    "\n",
    "a = 100\n",
    "b = 32.56\n",
    "c = 3.14j\n",
    "d = 'Some text'\n",
    "e = True\n",
    "f = []\n",
    "g = {}\n",
    "h = tuple()\n",
    "i = set()\n",
    "\n",
    "print(type(a), '\\t\\t', a)\n",
    "print(type(b), '\\t', b)\n",
    "print(type(c), '\\t', c)\n",
    "print(type(d), '\\t\\t', d)\n",
    "print(type(e), '\\t\\t', e)\n",
    "print(type(f), '\\t\\t', f)\n",
    "print(type(g), '\\t\\t', g)\n",
    "print(type(h), '\\t', h)\n",
    "print(type(i), '\\t\\t', i)"
   ]
  },
  {
   "cell_type": "code",
   "execution_count": 16,
   "id": "2159bda0",
   "metadata": {},
   "outputs": [
    {
     "name": "stdout",
     "output_type": "stream",
     "text": [
      "Arithmetic Add (a+b) = 30\n",
      "Arithmetic Substract (b-a) = 10\n",
      "Arithmetic Multiplication (b*c) = 600\n",
      "Arithmetic Division (c/b) = 1.5\n",
      "Arithmetic Modulus (d%a) = 0\n",
      "Arithmetic Floor Division (c//b) = 1\n",
      "----------------------\n",
      "Bitwise OR (a|b) = 30\n",
      "Bitwise AND (a&b) = 0\n",
      "Bitwise Left Shift (10<<1) = 20\n",
      "Bitwise Left Shift (5>>1) = 2\n"
     ]
    }
   ],
   "source": [
    "# multiple variable asignment\n",
    "\n",
    "a, b, c, d = 10, 20, 30, 40\n",
    "\n",
    "# Basic Operators\n",
    "\n",
    "print('Arithmetic Add (a+b) =', a+b)\n",
    "print('Arithmetic Substract (b-a) =', b-a)\n",
    "print('Arithmetic Multiplication (b*c) =', b*c)\n",
    "print('Arithmetic Division (c/b) =', c/b)\n",
    "print('Arithmetic Modulus (d%a) =', d%a)\n",
    "print('Arithmetic Floor Division (c//b) =', c//b)\n",
    "print('----------------------')\n",
    "\n",
    "print('Bitwise OR (a|b) =', a|b)\n",
    "print('Bitwise AND (a&b) =', a&b)\n",
    "print('Bitwise Left Shift (10<<1) =', 10<<1)\n",
    "print('Bitwise Left Shift (5>>1) =', 5>>1)"
   ]
  }
 ],
 "metadata": {
  "kernelspec": {
   "display_name": "Python 3",
   "language": "python",
   "name": "python3"
  },
  "language_info": {
   "codemirror_mode": {
    "name": "ipython",
    "version": 3
   },
   "file_extension": ".py",
   "mimetype": "text/x-python",
   "name": "python",
   "nbconvert_exporter": "python",
   "pygments_lexer": "ipython3",
   "version": "3.6.13"
  }
 },
 "nbformat": 4,
 "nbformat_minor": 5
}
