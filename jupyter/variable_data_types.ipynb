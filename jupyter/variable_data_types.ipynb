{
 "cells": [
  {
   "cell_type": "code",
   "execution_count": 8,
   "id": "4342c081",
   "metadata": {},
   "outputs": [
    {
     "name": "stdout",
     "output_type": "stream",
     "text": [
      "<class 'int'>\n",
      "<class 'str'>\n"
     ]
    }
   ],
   "source": [
    "# data type conversion\n",
    "\n",
    "a = 10\n",
    "b = str(a)\n",
    "\n",
    "print(type(a))\n",
    "print(type(b))"
   ]
  },
  {
   "cell_type": "code",
   "execution_count": 18,
   "id": "5da9e60f",
   "metadata": {},
   "outputs": [
    {
     "name": "stdout",
     "output_type": "stream",
     "text": [
      "No value for i\n"
     ]
    }
   ],
   "source": [
    "i = None  # False\n",
    "# i = ''  # False\n",
    "# i = ' ' # True\n",
    "# i = 'dgff'  # True\n",
    "\n",
    "if i:\n",
    "    print('Value of i is:', i)\n",
    "else:\n",
    "    print('No value for i')"
   ]
  },
  {
   "cell_type": "code",
   "execution_count": 23,
   "id": "6c34c731",
   "metadata": {},
   "outputs": [
    {
     "name": "stdout",
     "output_type": "stream",
     "text": [
      "1111122222\n",
      "33333\n"
     ]
    }
   ],
   "source": [
    "x = '11111'\n",
    "y = '22222'\n",
    "\n",
    "print(x+y)\n",
    "print(int(x)+int(y))"
   ]
  },
  {
   "cell_type": "code",
   "execution_count": 35,
   "id": "5b42880d",
   "metadata": {},
   "outputs": [
    {
     "name": "stdout",
     "output_type": "stream",
     "text": [
      "1\n",
      "3\n",
      "6\n",
      "5\n",
      "[2, 3, 4]\n",
      "[2, 3, 4, 5] [2, 3, 4, 5] [2, 4] [2, 5]\n"
     ]
    }
   ],
   "source": [
    "# list\n",
    "\n",
    "a = [1, 2, 3, 4, 5, 6]\n",
    "\n",
    "print(a[0])\n",
    "print(a[2])\n",
    "print(a[-1])\n",
    "print(a[-2])\n",
    "print(a[1:4])\n",
    "print(a[1:5], a[1:5:1], a[1:5:2], a[1:5:3])"
   ]
  },
  {
   "cell_type": "code",
   "execution_count": 40,
   "id": "d27cbcbc",
   "metadata": {},
   "outputs": [
    {
     "name": "stdout",
     "output_type": "stream",
     "text": [
      "[0, 1, 2, 3, 4, 5, 6, 7, 8, 9, 10, 11, 12, 13, 14, 15, 16, 17, 18, 19, 20, 21, 22, 23, 24, 25, 26, 27, 28, 29, 30, 31, 32, 33, 34, 35, 36, 37, 38, 39, 40, 41, 42, 43, 44, 45, 46, 47, 48, 49, 50, 51, 52, 53, 54, 55, 56, 57, 58, 59, 60, 61, 62, 63, 64, 65, 66, 67, 68, 69, 70, 71, 72, 73, 74, 75, 76, 77, 78, 79, 80, 81, 82, 83, 84, 85, 86, 87, 88, 89, 90, 91, 92, 93, 94, 95, 96, 97, 98, 99]\n",
      "[0, 4, 8, 12, 16, 20, 24, 28, 32, 36, 40, 44, 48, 52, 56, 60, 64, 68, 72, 76, 80, 84, 88, 92, 96]\n"
     ]
    }
   ],
   "source": [
    "b = list(range(100))\n",
    "\n",
    "print(b)\n",
    "print(b[::4])"
   ]
  },
  {
   "cell_type": "code",
   "execution_count": 44,
   "id": "f1fb1d55",
   "metadata": {},
   "outputs": [
    {
     "data": {
      "text/plain": [
       "'oee'"
      ]
     },
     "execution_count": 44,
     "metadata": {},
     "output_type": "execute_result"
    }
   ],
   "source": [
    "# String\n",
    "\n",
    "my_string = 'Hello everyone, nice to have you all here.'\n",
    "my_string[4:10:2]"
   ]
  }
 ],
 "metadata": {
  "kernelspec": {
   "display_name": "Python 3",
   "language": "python",
   "name": "python3"
  },
  "language_info": {
   "codemirror_mode": {
    "name": "ipython",
    "version": 3
   },
   "file_extension": ".py",
   "mimetype": "text/x-python",
   "name": "python",
   "nbconvert_exporter": "python",
   "pygments_lexer": "ipython3",
   "version": "3.6.13"
  }
 },
 "nbformat": 4,
 "nbformat_minor": 5
}
